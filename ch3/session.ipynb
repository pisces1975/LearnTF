{
 "cells": [
  {
   "cell_type": "code",
   "execution_count": 1,
   "metadata": {
    "tags": []
   },
   "outputs": [
    {
     "name": "stdout",
     "output_type": "stream",
     "text": [
      "WARNING:tensorflow:From C:\\Users\\NstcUser\\AppData\\Local\\Temp\\ipykernel_31292\\1222965418.py:3: The name tf.placeholder is deprecated. Please use tf.compat.v1.placeholder instead.\n",
      "\n",
      "WARNING:tensorflow:From C:\\Users\\NstcUser\\AppData\\Local\\Temp\\ipykernel_31292\\1222965418.py:7: The name tf.Session is deprecated. Please use tf.compat.v1.Session instead.\n",
      "\n",
      "WARNING:tensorflow:From C:\\Users\\NstcUser\\AppData\\Local\\Temp\\ipykernel_31292\\1222965418.py:8: The name tf.global_variables_initializer is deprecated. Please use tf.compat.v1.global_variables_initializer instead.\n",
      "\n",
      "4.0\n"
     ]
    }
   ],
   "source": [
    "import tensorflow as tf\n",
    "# 创建数据流图：y = W * x + b，其中W和b为存储节点，x为数据节点。\n",
    "x = tf.placeholder(tf.float32)\n",
    "W = tf.Variable(1.0)\n",
    "b = tf.Variable(1.0)\n",
    "y = W * x + b\n",
    "with tf.Session() as sess:\n",
    "    tf.global_variables_initializer().run() # Operation.run\n",
    "    fetch = y.eval(feed_dict={x: 3.0})      # Tensor.eval\n",
    "    print(fetch)                            # fetch = 1.0 * 3.0 + 1.0"
   ]
  },
  {
   "cell_type": "code",
   "execution_count": 2,
   "metadata": {
    "tags": []
   },
   "outputs": [
    {
     "name": "stdout",
     "output_type": "stream",
     "text": [
      "0.19670936\n"
     ]
    }
   ],
   "source": [
    "x = tf.placeholder(tf.float32,name='x')\n",
    "y = tf.placeholder(tf.float32,name='y')\n",
    "z = tf.divide(x,y,name='z')\n",
    "\n",
    "sess = tf.compat.v1.Session()\n",
    "print(sess.run(z, feed_dict={x:242.2342, y:1231.432}))"
   ]
  },
  {
   "cell_type": "code",
   "execution_count": 3,
   "metadata": {
    "tags": []
   },
   "outputs": [
    {
     "name": "stdout",
     "output_type": "stream",
     "text": [
      "WARNING:tensorflow:From C:\\Users\\NstcUser\\AppData\\Local\\Temp\\ipykernel_31292\\4212806231.py:2: The name tf.random_normal is deprecated. Please use tf.random.normal instead.\n",
      "\n",
      "y=0.635528, z=1986.367432\n"
     ]
    }
   ],
   "source": [
    "x = tf.placeholder(tf.float32,name='x')\n",
    "y = tf.Variable(tf.random_normal([]), name='y') \n",
    "z = y*x + y + x\n",
    "\n",
    "with tf.compat.v1.Session() as sess:\n",
    "    tf.compat.v1.global_variables_initializer().run()\n",
    "    fetch = z.eval(feed_dict={x:1214.12314})\n",
    "    print(\"y=%f, z=%f\" % (sess.run(y), fetch))\n",
    "\n"
   ]
  },
  {
   "cell_type": "code",
   "execution_count": null,
   "metadata": {},
   "outputs": [],
   "source": []
  }
 ],
 "metadata": {
  "kernelspec": {
   "display_name": "py37",
   "language": "python",
   "name": "py37"
  },
  "language_info": {
   "codemirror_mode": {
    "name": "ipython",
    "version": 3
   },
   "file_extension": ".py",
   "mimetype": "text/x-python",
   "name": "python",
   "nbconvert_exporter": "python",
   "pygments_lexer": "ipython3",
   "version": "3.7.0"
  }
 },
 "nbformat": 4,
 "nbformat_minor": 4
}
