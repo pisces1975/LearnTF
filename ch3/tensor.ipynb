{
 "cells": [
  {
   "cell_type": "code",
   "execution_count": 1,
   "metadata": {},
   "outputs": [],
   "source": [
    "import tensorflow as tf"
   ]
  },
  {
   "cell_type": "code",
   "execution_count": 4,
   "metadata": {},
   "outputs": [],
   "source": [
    "# 0阶张量\n",
    "mammal = tf.Variable(\"Elephant\", tf.string)\n",
    "ignition = tf.Variable(451, tf.int16)\n",
    "floating = tf.Variable(3.14159265359, tf.float64)\n",
    "its_complicated = tf.Variable(12.3 - 4.85j, tf.complex64)\n",
    "my_float = tf.Variable(5.345, tf.float32)"
   ]
  },
  {
   "cell_type": "code",
   "execution_count": 5,
   "metadata": {},
   "outputs": [
    {
     "data": {
      "text/plain": [
       "[<tf.Variable 'Variable_4:0' shape=() dtype=string_ref>,\n",
       " <tf.Variable 'Variable_5:0' shape=() dtype=int32_ref>,\n",
       " <tf.Variable 'Variable_6:0' shape=() dtype=float32_ref>,\n",
       " <tf.Variable 'Variable_7:0' shape=() dtype=complex128_ref>,\n",
       " <tf.Variable 'Variable_8:0' shape=() dtype=float32_ref>]"
      ]
     },
     "execution_count": 5,
     "metadata": {},
     "output_type": "execute_result"
    }
   ],
   "source": [
    "[mammal, ignition, floating, its_complicated, my_float]"
   ]
  },
  {
   "cell_type": "code",
   "execution_count": 6,
   "metadata": {},
   "outputs": [],
   "source": [
    "# 1阶张量\n",
    "mystr = tf.Variable([\"Hello\", \"World\"], tf.string)\n",
    "cool_numbers  = tf.Variable([3.14159, 2.71828], tf.float32)\n",
    "first_primes = tf.Variable([2, 3, 5, 7, 11], tf.int32)\n",
    "its_very_complicated = tf.Variable([12.3 - 4.85j, 7.5 - 6.23j], tf.complex64)\n",
    "my_float_2 = tf.Variable([1.23,23.3,34.5,56.7], tf.float64)"
   ]
  },
  {
   "cell_type": "code",
   "execution_count": 7,
   "metadata": {},
   "outputs": [
    {
     "data": {
      "text/plain": [
       "[<tf.Variable 'Variable_9:0' shape=(2,) dtype=string_ref>,\n",
       " <tf.Variable 'Variable_10:0' shape=(2,) dtype=float32_ref>,\n",
       " <tf.Variable 'Variable_11:0' shape=(5,) dtype=int32_ref>,\n",
       " <tf.Variable 'Variable_12:0' shape=(2,) dtype=complex128_ref>,\n",
       " <tf.Variable 'Variable_13:0' shape=(4,) dtype=float32_ref>]"
      ]
     },
     "execution_count": 7,
     "metadata": {},
     "output_type": "execute_result"
    }
   ],
   "source": [
    "[mystr, cool_numbers, first_primes, its_very_complicated, my_float_2]"
   ]
  },
  {
   "cell_type": "code",
   "execution_count": 20,
   "metadata": {},
   "outputs": [],
   "source": [
    "# 2阶张量\n",
    "mymat = tf.Variable([[7],[11]], tf.int16)\n",
    "myxor = tf.Variable([[False, True],[True, False]], tf.bool)\n",
    "linear_squares = tf.Variable([[4], [9], [16], [25]], tf.int32)\n",
    "squarish_squares = tf.Variable([ [4, 9], [16, 25] ], tf.int32)\n",
    "rank_of_squares = tf.rank(squarish_squares)\n",
    "mymatC = tf.Variable([[7],[11]], tf.int32)\n",
    "my_float_3 = tf.Variable([[[1.0,2.0,3.0],[4.0,5.0,6.0]],[[1.1,2.1,3.1],[4.1,5.1,6.1]]],tf.float16)\n",
    "my_float_4 = tf.Variable([[1.0,2.0,3.0],[4.0,5.0,6.0]],tf.float16)\n",
    "my_float_5 = tf.Variable([[[[1.0,2.0,3.0],[4.0,5.0,6.0]],[[1.1,2.1,3.1],[4.1,5.1,6.1]]]],tf.float16)\n",
    "rank_of_5 = tf.rank(my_float_5)"
   ]
  },
  {
   "cell_type": "code",
   "execution_count": 21,
   "metadata": {},
   "outputs": [
    {
     "data": {
      "text/plain": [
       "[<tf.Variable 'Variable_56:0' shape=(2, 1) dtype=int32_ref>,\n",
       " <tf.Variable 'Variable_57:0' shape=(2, 2) dtype=bool_ref>,\n",
       " <tf.Variable 'Variable_58:0' shape=(4, 1) dtype=int32_ref>,\n",
       " <tf.Variable 'Variable_59:0' shape=(2, 2) dtype=int32_ref>,\n",
       " <tf.Tensor 'Rank_7:0' shape=() dtype=int32>,\n",
       " <tf.Variable 'Variable_60:0' shape=(2, 1) dtype=int32_ref>,\n",
       " <tf.Variable 'Variable_61:0' shape=(2, 2, 3) dtype=float32_ref>,\n",
       " <tf.Variable 'Variable_62:0' shape=(2, 3) dtype=float32_ref>,\n",
       " <tf.Variable 'Variable_63:0' shape=(1, 2, 2, 3) dtype=float32_ref>,\n",
       " <tf.Tensor 'Rank_8:0' shape=() dtype=int32>]"
      ]
     },
     "execution_count": 21,
     "metadata": {},
     "output_type": "execute_result"
    }
   ],
   "source": [
    "[mymat, myxor, linear_squares, squarish_squares, rank_of_squares, mymatC,my_float_3,my_float_4,my_float_5,rank_of_5]"
   ]
  },
  {
   "cell_type": "code",
   "execution_count": 24,
   "metadata": {},
   "outputs": [],
   "source": [
    "# 4阶张量\n",
    "my_image = tf.zeros([10, 299, 299, 3])  # batch x height x width x color\n",
    "my_float_6 = tf.zeros([3,4,5,6,7])"
   ]
  },
  {
   "cell_type": "code",
   "execution_count": 25,
   "metadata": {},
   "outputs": [
    {
     "data": {
      "text/plain": [
       "<tf.Tensor 'zeros_1:0' shape=(10, 299, 299, 3) dtype=float32>"
      ]
     },
     "execution_count": 25,
     "metadata": {},
     "output_type": "execute_result"
    }
   ],
   "source": [
    "my_image"
   ]
  },
  {
   "cell_type": "code",
   "execution_count": 26,
   "metadata": {},
   "outputs": [
    {
     "data": {
      "text/plain": [
       "<tf.Tensor 'zeros_2:0' shape=(3, 4, 5, 6, 7) dtype=float32>"
      ]
     },
     "execution_count": 26,
     "metadata": {},
     "output_type": "execute_result"
    }
   ],
   "source": [
    "my_float_6"
   ]
  }
 ],
 "metadata": {
  "kernelspec": {
   "display_name": "py37",
   "language": "python",
   "name": "py37"
  },
  "language_info": {
   "codemirror_mode": {
    "name": "ipython",
    "version": 3
   },
   "file_extension": ".py",
   "mimetype": "text/x-python",
   "name": "python",
   "nbconvert_exporter": "python",
   "pygments_lexer": "ipython3",
   "version": "3.7.0"
  }
 },
 "nbformat": 4,
 "nbformat_minor": 2
}
