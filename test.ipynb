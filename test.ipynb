{
 "cells": [
  {
   "cell_type": "code",
   "execution_count": 1,
   "metadata": {},
   "outputs": [
    {
     "name": "stdout",
     "output_type": "stream",
     "text": [
      "WARNING:tensorflow:From C:\\Users\\NstcUser\\AppData\\Local\\Temp\\ipykernel_18668\\1516694133.py:3: The name tf.Session is deprecated. Please use tf.compat.v1.Session instead.\n",
      "\n",
      "b'hello tensorflow, this is Jeffrey'\n"
     ]
    }
   ],
   "source": [
    "import tensorflow as tf\n",
    "hello = tf.constant(\"hello tensorflow, this is Jeffrey\")\n",
    "sess = tf.Session()\n",
    "print(sess.run(hello))\n",
    "\n",
    "#######################################################\n",
    "# this program is used to test installation, following\n",
    "# cells are useless\n",
    "#######################################################"
   ]
  }
 ],
 "metadata": {
  "kernelspec": {
   "display_name": "py37",
   "language": "python",
   "name": "py37"
  },
  "language_info": {
   "codemirror_mode": {
    "name": "ipython",
    "version": 3
   },
   "file_extension": ".py",
   "mimetype": "text/x-python",
   "name": "python",
   "nbconvert_exporter": "python",
   "pygments_lexer": "ipython3",
   "version": "3.7.0"
  },
  "orig_nbformat": 4
 },
 "nbformat": 4,
 "nbformat_minor": 2
}
